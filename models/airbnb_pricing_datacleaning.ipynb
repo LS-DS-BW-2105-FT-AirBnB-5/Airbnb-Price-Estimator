{
  "nbformat": 4,
  "nbformat_minor": 0,
  "metadata": {
    "colab": {
      "name": "airbnb_pricing_datacleaning.ipynb",
      "provenance": [],
      "collapsed_sections": []
    },
    "kernelspec": {
      "name": "python3",
      "display_name": "Python 3"
    },
    "language_info": {
      "name": "python"
    }
  },
  "cells": [
    {
      "cell_type": "code",
      "metadata": {
        "id": "ed21RrbvPMGd"
      },
      "source": [
        "!pip install category_encoders --quiet"
      ],
      "execution_count": null,
      "outputs": []
    },
    {
      "cell_type": "code",
      "metadata": {
        "id": "eeWwkg4U47jh"
      },
      "source": [
        "import pandas as pd\n",
        "import seaborn as sns"
      ],
      "execution_count": 50,
      "outputs": []
    },
    {
      "cell_type": "code",
      "metadata": {
        "id": "Zf9ALnKmdgve"
      },
      "source": [
        "cal_df = pd.read_csv('/content/drive/MyDrive/nyc_data/calendar.csv',\n",
        "                     parse_dates = ['date'],\n",
        "                     index_col = 'date').sort_index()"
      ],
      "execution_count": 51,
      "outputs": []
    },
    {
      "cell_type": "code",
      "metadata": {
        "id": "ZIKDtcw_Xy0r"
      },
      "source": [
        "list_df = pd.read_csv('/content/drive/MyDrive/nyc_data/listings.csv',\n",
        "                      parse_dates = ['first_review', 'last_review', 'host_since'])"
      ],
      "execution_count": 68,
      "outputs": []
    },
    {
      "cell_type": "code",
      "metadata": {
        "id": "sFcji1FYXyWy"
      },
      "source": [
        "reviews_df = pd.read_csv('/content/drive/MyDrive/nyc_data/reviews.csv',\n",
        "                         parse_dates = ['date'])"
      ],
      "execution_count": 64,
      "outputs": []
    },
    {
      "cell_type": "code",
      "metadata": {
        "id": "hT6lTm5K5Wc7"
      },
      "source": [
        "# cleaning the calendar dataframe. because price and adjusted price have a \n",
        "# correlation of ~0.99, i'm going to drop adjusted price\n",
        "\n",
        "cal_df['available'] = cal_df['available'].map({'f' : 0, 't' : 1})\n",
        "cal_df['price'] = cal_df['price'].str.lstrip('$').str.replace(',','')\n",
        "cal_df['adjusted_price'] = cal_df['adjusted_price'].str.lstrip('$').str.replace(',','')\n",
        "cal_df[['price', 'adjusted_price']] = cal_df[['price', 'adjusted_price']].astype(float)\n",
        "\n",
        "cal_df = cal_df.drop('adjusted_price', axis = 1)"
      ],
      "execution_count": 65,
      "outputs": []
    },
    {
      "cell_type": "code",
      "metadata": {
        "id": "iAqL-duWBCKD"
      },
      "source": [
        "# extracting the features from the listings df that are both relevant and useable \n",
        "# within an app\n",
        "\n",
        "list_df = list_df[['id', 'neighbourhood_group_cleansed', 'latitude', 'longitude', \n",
        "                   'room_type', 'accommodates', 'host_since']].copy()\n",
        "\n",
        "list_df = list_df.rename(columns = {'neighbourhood_group_cleansed' : 'borough',                                     \n",
        "                                     'review_scores_rating' : 'review_score',\n",
        "                                     'id':'listing_id'})"
      ],
      "execution_count": 69,
      "outputs": []
    },
    {
      "cell_type": "code",
      "metadata": {
        "id": "q35wQmM7C8On"
      },
      "source": [
        "# reducing the reviews dataframe to the relevant columns. we may be able to\n",
        "# incorporate sentiment analysis into future models\n",
        "\n",
        "reviews_df = reviews_df[['listing_id', 'date', 'comments']].copy()"
      ],
      "execution_count": 70,
      "outputs": []
    },
    {
      "cell_type": "code",
      "metadata": {
        "id": "diOAA9R6I65v"
      },
      "source": [
        "# merging the calendar and listings dataframes\n",
        "\n",
        "df_model = pd.merge(cal_df.reset_index(), list_df, how = 'left', on = 'listing_id')\n",
        "df_model = df_model.set_index('date')"
      ],
      "execution_count": 71,
      "outputs": []
    },
    {
      "cell_type": "code",
      "metadata": {
        "id": "r5W6KnHbPF4P"
      },
      "source": [
        "df_model['room_type'] = df_model['room_type'].map({'Entire home/apt' : 'entire home',\n",
        "                                                   'Private room' : 'room',\n",
        "                                                   'Shared room' : 'shared room',\n",
        "                                                   'Hotel room' : 'hotel room'})\n",
        "\n",
        "df_model['day_of_week'] = df_model.index.dayofweek"
      ],
      "execution_count": 72,
      "outputs": []
    },
    {
      "cell_type": "code",
      "metadata": {
        "id": "CbX0ZwTzaLjM"
      },
      "source": [
        "df_model['time_as_host'] = df_model.index - df_model['host_since']"
      ],
      "execution_count": 84,
      "outputs": []
    },
    {
      "cell_type": "code",
      "metadata": {
        "id": "Y7pK-od4z9D7"
      },
      "source": [
        "df_model.reset_index().to_csv('/content/drive/MyDrive/nyc_data/model_df.csv', index = False)"
      ],
      "execution_count": 89,
      "outputs": []
    }
  ]
}