{
  "nbformat": 4,
  "nbformat_minor": 0,
  "metadata": {
    "colab": {
      "name": "airbnb_model_tests.ipynb",
      "provenance": [],
      "collapsed_sections": []
    },
    "kernelspec": {
      "name": "python3",
      "display_name": "Python 3"
    },
    "language_info": {
      "name": "python"
    }
  },
  "cells": [
    {
      "cell_type": "code",
      "metadata": {
        "id": "hml4yFQg6KDj"
      },
      "source": [
        "!pip install category_encoders --quiet\n",
        "!pip install shap --quiet \n",
        "!pip install scikit-garden --quiet\n",
        "!pip install catboost --quiet"
      ],
      "execution_count": 30,
      "outputs": []
    },
    {
      "cell_type": "code",
      "metadata": {
        "id": "_1didJYX6ECI"
      },
      "source": [
        "import pandas as pd\n",
        "import matplotlib.pyplot as plt\n",
        "import seaborn as sns\n",
        "import pickle\n",
        "from category_encoders import OrdinalEncoder\n",
        "from sklearn.pipeline import make_pipeline\n",
        "from sklearn.impute import SimpleImputer\n",
        "from sklearn.metrics import mean_absolute_error\n",
        "from xgboost import XGBRegressor\n",
        "from catboost import CatBoostRegressor\n",
        "from skgarden import RandomForestQuantileRegressor"
      ],
      "execution_count": 31,
      "outputs": []
    },
    {
      "cell_type": "code",
      "metadata": {
        "id": "r3by0dqS6v31"
      },
      "source": [
        "df = pd.read_csv('/content/drive/MyDrive/nyc_data/model_df.csv',\n",
        "                 parse_dates = ['date'],\n",
        "                 index_col = 'date')\n",
        "\n",
        "df = df[df['price'] >0].copy()"
      ],
      "execution_count": 22,
      "outputs": []
    },
    {
      "cell_type": "code",
      "metadata": {
        "id": "brLwjYYOLjjg"
      },
      "source": [
        "date_of_scrape = pd.to_datetime('2021-04-07')\n",
        "\n",
        "df['days_until_booking'] = df.index - date_of_scrape\n",
        "df['days_until_booking'] = (df['days_until_booking']\n",
        "                            .astype(str)\n",
        "                            .str.rstrip(' days')                            \n",
        "                            .astype(int))"
      ],
      "execution_count": 23,
      "outputs": []
    },
    {
      "cell_type": "code",
      "metadata": {
        "id": "Nv2Z4Buf6_ul"
      },
      "source": [
        "# features selected for user-friendliness + predictive utility\n",
        "\n",
        "features = ['borough', 'room_type', 'accommodates','day_of_week',\n",
        "            'days_until_booking']\n",
        "\n",
        "target = 'price'\n",
        "\n",
        "date_threshold = '2022-02-02'\n",
        "\n",
        "mask = df.index < date_threshold\n",
        "\n",
        "X = df[features]\n",
        "y = df[target]\n",
        "\n",
        "X_train, y_train = X[mask], y[mask]\n",
        "X_test, y_test = X[~mask], y[~mask]"
      ],
      "execution_count": 24,
      "outputs": []
    },
    {
      "cell_type": "code",
      "metadata": {
        "id": "-eHSV-hLQ8JC"
      },
      "source": [
        "# using a smaller database to train the model\n",
        "\n",
        "df_sample = df.sample(frac = 0.1)\n",
        "\n",
        "mask_sample = df_sample.index < date_threshold\n",
        "\n",
        "X_sample = df_sample[features]\n",
        "y_sample = df_sample[target]\n",
        "\n",
        "Xs_train, ys_train = X_sample[mask_sample], y_sample[mask_sample]\n",
        "Xs_test, ys_test = X_sample[~mask_sample], y_sample[~mask_sample]"
      ],
      "execution_count": 25,
      "outputs": []
    },
    {
      "cell_type": "code",
      "metadata": {
        "id": "pvaTejcn9POU"
      },
      "source": [
        "y_train_mean = [y_train.mean()] * len(y_train)\n",
        "\n",
        "ys_train_mean = [ys_train.mean()] * len(ys_train)\n",
        "\n",
        "print(\"The mean absolute error of a naive model using only the average is:\", mean_absolute_error(y_train, y_train_mean))\n",
        "print(\"The mean absolute error of a naive model on the subsample dataset is:\", mean_absolute_error(ys_train, ys_train_mean))"
      ],
      "execution_count": null,
      "outputs": []
    },
    {
      "cell_type": "code",
      "metadata": {
        "colab": {
          "base_uri": "https://localhost:8080/"
        },
        "id": "yvk6xayn-Azu",
        "outputId": "c3c593de-7fcb-4376-95ac-4c6e80385a19"
      },
      "source": [
        "# training an XGBoostRegressor to predict the mean expected price given features\n",
        "\n",
        "model = make_pipeline(\n",
        "    OrdinalEncoder(),\n",
        "    SimpleImputer(),\n",
        "    XGBRegressor()\n",
        ")\n",
        "\n",
        "model.fit(Xs_train, ys_train);"
      ],
      "execution_count": 27,
      "outputs": [
        {
          "output_type": "stream",
          "text": [
            "[01:25:18] WARNING: /workspace/src/objective/regression_obj.cu:152: reg:linear is now deprecated in favor of reg:squarederror.\n"
          ],
          "name": "stdout"
        }
      ]
    },
    {
      "cell_type": "code",
      "metadata": {
        "id": "3Hy-p_s74fGS"
      },
      "source": [
        "# training a CatBoostRegressor model to predict 90th percentile price given features\n",
        "\n",
        "model_cat = make_pipeline(\n",
        "    OrdinalEncoder(),\n",
        "    SimpleImputer(),\n",
        "    CatBoostRegressor(loss_function = 'Quantile:alpha=0.90')\n",
        "\n",
        ")\n",
        "\n",
        "model_cat.fit(Xs_train, ys_train);"
      ],
      "execution_count": null,
      "outputs": []
    },
    {
      "cell_type": "code",
      "metadata": {
        "id": "DiK4eOCwYplJ"
      },
      "source": [
        "model_cat10 = make_pipeline(\n",
        "    OrdinalEncoder(),\n",
        "    SimpleImputer(),\n",
        "    CatBoostRegressor(loss_function = 'Quantile:alpha=0.10')\n",
        "\n",
        ")\n",
        "\n",
        "model_cat10.fit(Xs_train, ys_train);"
      ],
      "execution_count": null,
      "outputs": []
    },
    {
      "cell_type": "code",
      "metadata": {
        "colab": {
          "base_uri": "https://localhost:8080/"
        },
        "id": "Q_IA_XpkIgz8",
        "outputId": "c2c1e727-3582-42a8-e09b-6adf57a2ef6d"
      },
      "source": [
        "model_cat.named_steps['catboostregressor'].feature_importances_"
      ],
      "execution_count": 37,
      "outputs": [
        {
          "output_type": "execute_result",
          "data": {
            "text/plain": [
              "array([29.52623607, 15.26015654, 52.60043851,  0.97515577,  1.63801311])"
            ]
          },
          "metadata": {
            "tags": []
          },
          "execution_count": 37
        }
      ]
    },
    {
      "cell_type": "code",
      "metadata": {
        "id": "AXjejvwEGLl3"
      },
      "source": [
        "boost_regressor = '/content/drive/MyDrive/nyc_data/boost_model.sav'\n",
        "pickle.dump(model, open(boost_regressor, \"wb\"))"
      ],
      "execution_count": 28,
      "outputs": []
    },
    {
      "cell_type": "code",
      "metadata": {
        "id": "lxjF2qddYJDC"
      },
      "source": [
        "catboost_90 = '/content/drive/MyDrive/nyc_data/catboost_90.sav'\n",
        "pickle.dump(model_cat, open(catboost_90, \"wb\"))"
      ],
      "execution_count": 42,
      "outputs": []
    },
    {
      "cell_type": "code",
      "metadata": {
        "id": "KmzA6yXYYbgP"
      },
      "source": [
        "catboost_10 = '/content/drive/MyDrive/nyc_data/catboost_10.sav'\n",
        "pickle.dump(model_cat10, open(catboost_10, \"wb\"))"
      ],
      "execution_count": 45,
      "outputs": []
    },
    {
      "cell_type": "code",
      "metadata": {
        "id": "A-7yO-xpHBuC"
      },
      "source": [
        "test_pred90 = model_cat.predict(Xs_test)"
      ],
      "execution_count": 47,
      "outputs": []
    },
    {
      "cell_type": "code",
      "metadata": {
        "id": "THVaLMhAZpol"
      },
      "source": [
        "test_pred10 = model_cat10.predict(Xs_test)"
      ],
      "execution_count": 51,
      "outputs": []
    },
    {
      "cell_type": "code",
      "metadata": {
        "id": "iaPSy51HX97Y"
      },
      "source": [
        "test_predmean = model.predict(Xs_test)"
      ],
      "execution_count": 55,
      "outputs": []
    }
  ]
}