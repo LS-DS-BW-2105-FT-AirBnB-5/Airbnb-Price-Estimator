{
  "nbformat": 4,
  "nbformat_minor": 0,
  "metadata": {
    "colab": {
      "name": "airbnb_model_tests.ipynb",
      "provenance": [],
      "collapsed_sections": []
    },
    "kernelspec": {
      "name": "python3",
      "display_name": "Python 3"
    },
    "language_info": {
      "name": "python"
    }
  },
  "cells": [
    {
      "cell_type": "code",
      "metadata": {
        "id": "hml4yFQg6KDj"
      },
      "source": [
        "!pip install category_encoders --quiet\n",
        "!pip install shap --quiet \n",
        "!pip install catboost --quiet"
      ],
      "execution_count": null,
      "outputs": []
    },
    {
      "cell_type": "code",
      "metadata": {
        "id": "_1didJYX6ECI",
        "colab": {
          "base_uri": "https://localhost:8080/"
        },
        "outputId": "a15de6b2-9516-4dad-b9b2-2be80c71b2d4"
      },
      "source": [
        "import pandas as pd\n",
        "import matplotlib.pyplot as plt\n",
        "import seaborn as sns\n",
        "import pickle\n",
        "from category_encoders import OrdinalEncoder\n",
        "from sklearn.pipeline import make_pipeline\n",
        "from sklearn.impute import SimpleImputer\n",
        "from sklearn.metrics import mean_absolute_error\n",
        "import category_encoders\n",
        "from catboost import CatBoostRegressor"
      ],
      "execution_count": 2,
      "outputs": [
        {
          "output_type": "stream",
          "text": [
            "/usr/local/lib/python3.7/dist-packages/statsmodels/tools/_testing.py:19: FutureWarning: pandas.util.testing is deprecated. Use the functions in the public API at pandas.testing instead.\n",
            "  import pandas.util.testing as tm\n"
          ],
          "name": "stderr"
        }
      ]
    },
    {
      "cell_type": "code",
      "metadata": {
        "id": "Y00iI-dCntA0"
      },
      "source": [
        "print(xgboost.__version__)\n",
        "print(sklearn.__version__)\n",
        "print(catboost.__version__)\n",
        "print(category_encoders.__version__)"
      ],
      "execution_count": null,
      "outputs": []
    },
    {
      "cell_type": "code",
      "metadata": {
        "id": "r3by0dqS6v31"
      },
      "source": [
        "# loading the dataset and filtering out rows where price is 0 -- missed in clean\n",
        "\n",
        "df = pd.read_csv('/content/drive/MyDrive/nyc_data/model_df.csv',\n",
        "                 parse_dates = ['date'],\n",
        "                 index_col = 'date')\n",
        "\n",
        "df = df[df['price'] >0].copy()"
      ],
      "execution_count": 3,
      "outputs": []
    },
    {
      "cell_type": "code",
      "metadata": {
        "id": "brLwjYYOLjjg"
      },
      "source": [
        "# adding the days until booking feature to the dataset\n",
        "\n",
        "date_of_scrape = pd.to_datetime('2021-04-07')\n",
        "\n",
        "df['days_until_booking'] = df.index - date_of_scrape\n",
        "df['days_until_booking'] = (df['days_until_booking']\n",
        "                            .astype(str)\n",
        "                            .str.rstrip(' days')                            \n",
        "                            .astype(int))"
      ],
      "execution_count": 4,
      "outputs": []
    },
    {
      "cell_type": "code",
      "metadata": {
        "id": "Nv2Z4Buf6_ul"
      },
      "source": [
        "# features selected for user-friendliness and predictive utility\n",
        "\n",
        "features = ['borough', 'room_type', 'accommodates','day_of_week',\n",
        "            'days_until_booking']\n",
        "\n",
        "target = 'price'\n",
        "\n",
        "date_threshold = '2022-02-02'\n",
        "\n",
        "mask = df.index < date_threshold\n",
        "\n",
        "X = df[features]\n",
        "y = df[target]\n",
        "\n",
        "X_train, y_train = X[mask], y[mask]\n",
        "X_test, y_test = X[~mask], y[~mask]"
      ],
      "execution_count": 5,
      "outputs": []
    },
    {
      "cell_type": "code",
      "metadata": {
        "id": "-eHSV-hLQ8JC"
      },
      "source": [
        "# creating a smaller dataset through sampling to train the models\n",
        "\n",
        "df_sample = df.sample(frac = 0.1)\n",
        "\n",
        "mask_sample = df_sample.index < date_threshold\n",
        "\n",
        "X_sample = df_sample[features]\n",
        "y_sample = df_sample[target]\n",
        "\n",
        "Xs_train, ys_train = X_sample[mask_sample], y_sample[mask_sample]\n",
        "Xs_test, ys_test = X_sample[~mask_sample], y_sample[~mask_sample]"
      ],
      "execution_count": 10,
      "outputs": []
    },
    {
      "cell_type": "code",
      "metadata": {
        "id": "pvaTejcn9POU",
        "colab": {
          "base_uri": "https://localhost:8080/"
        },
        "outputId": "79f5acb1-1faa-47d1-f535-4963d2312bc2"
      },
      "source": [
        "# calculating the baseline error when using a naive model of the average\n",
        "\n",
        "y_train_mean = [y_train.mean()] * len(y_train)\n",
        "\n",
        "ys_train_mean = [ys_train.mean()] * len(ys_train)\n",
        "\n",
        "print(\"The mean absolute error of a naive model using only the average is:\", mean_absolute_error(y_train, y_train_mean))\n",
        "print(\"The mean absolute error of a naive model on the subsample dataset is:\", mean_absolute_error(ys_train, ys_train_mean))"
      ],
      "execution_count": null,
      "outputs": [
        {
          "output_type": "stream",
          "text": [
            "The mean absolute error of a naive model using only the average is: 100.75608731408619\n",
            "The mean absolute error of a naive model on the subsample dataset is: 100.2419722786472\n"
          ],
          "name": "stdout"
        }
      ]
    },
    {
      "cell_type": "code",
      "metadata": {
        "id": "yvk6xayn-Azu"
      },
      "source": [
        "# training a CatBoost model with the loss function set to quantile to \n",
        "# predict the 50th percentile price. below we train 75th and 25th percentile\n",
        "# models. the user can decide where to price their unit. \n",
        "\n",
        "model = make_pipeline(\n",
        "    OrdinalEncoder(),\n",
        "    SimpleImputer(),\n",
        "    CatBoostRegressor(loss_function = 'Quantile:alpha=0.5')\n",
        ")\n",
        "\n",
        "model.fit(Xs_train, ys_train);"
      ],
      "execution_count": null,
      "outputs": []
    },
    {
      "cell_type": "code",
      "metadata": {
        "id": "3Hy-p_s74fGS"
      },
      "source": [
        "# training a CatBoost model to predict the 75th percentile price \n",
        "\n",
        "model_cat75 = make_pipeline(\n",
        "    OrdinalEncoder(),\n",
        "    SimpleImputer(),\n",
        "    CatBoostRegressor(loss_function = 'Quantile:alpha=0.75')\n",
        "\n",
        ")\n",
        "\n",
        "model_cat75.fit(Xs_train, ys_train);"
      ],
      "execution_count": null,
      "outputs": []
    },
    {
      "cell_type": "code",
      "metadata": {
        "id": "DiK4eOCwYplJ"
      },
      "source": [
        "# training a CatBoost model to predict the 25th percentile price\n",
        "\n",
        "model_cat25 = make_pipeline(\n",
        "    OrdinalEncoder(),\n",
        "    SimpleImputer(),\n",
        "    CatBoostRegressor(loss_function = 'Quantile:alpha=0.25')\n",
        "\n",
        ")\n",
        "\n",
        "model_cat25.fit(Xs_train, ys_train);"
      ],
      "execution_count": null,
      "outputs": []
    },
    {
      "cell_type": "code",
      "metadata": {
        "id": "Q_IA_XpkIgz8"
      },
      "source": [
        "model_cat.named_steps['catboostregressor'].feature_importances_"
      ],
      "execution_count": null,
      "outputs": []
    },
    {
      "cell_type": "code",
      "metadata": {
        "id": "AXjejvwEGLl3"
      },
      "source": [
        "cat_boost50 = '/content/drive/MyDrive/nyc_data/catboost_50b.sav'\n",
        "pickle.dump(model, open(cat_boost50, \"wb\"))"
      ],
      "execution_count": 22,
      "outputs": []
    },
    {
      "cell_type": "code",
      "metadata": {
        "id": "lxjF2qddYJDC"
      },
      "source": [
        "catboost_75 = '/content/drive/MyDrive/nyc_data/catboost_75b.sav'\n",
        "pickle.dump(model_cat75, open(catboost_75, \"wb\"))"
      ],
      "execution_count": 23,
      "outputs": []
    },
    {
      "cell_type": "code",
      "metadata": {
        "id": "KmzA6yXYYbgP"
      },
      "source": [
        "catboost_25 = '/content/drive/MyDrive/nyc_data/catboost_25.sav'\n",
        "pickle.dump(model_cat25, open(catboost_25, \"wb\"))"
      ],
      "execution_count": null,
      "outputs": []
    },
    {
      "cell_type": "code",
      "metadata": {
        "id": "iaPSy51HX97Y"
      },
      "source": [
        "test_pred = {\n",
        "  \"borough\": \"Manhattan\",\n",
        "  \"room_type\": \"room\",\n",
        "  \"accommodates\": 4,\n",
        "  \"day_of_week\": 6,\n",
        "  \"days_until_booking\": 7\n",
        "}"
      ],
      "execution_count": 17,
      "outputs": []
    },
    {
      "cell_type": "code",
      "metadata": {
        "id": "mRD_HdSvGSb3"
      },
      "source": [
        "test_pred_df = pd.DataFrame(test_pred, index = [0])"
      ],
      "execution_count": 18,
      "outputs": []
    },
    {
      "cell_type": "code",
      "metadata": {
        "colab": {
          "base_uri": "https://localhost:8080/"
        },
        "id": "tTf8EKTQGWA0",
        "outputId": "030d098c-43e4-4f53-ce2c-0f0a0dd5e37c"
      },
      "source": [
        "print(model.predict(test_pred_df))\n",
        "print(model_cat75.predict(test_pred_df))"
      ],
      "execution_count": 21,
      "outputs": [
        {
          "output_type": "stream",
          "text": [
            "[124.72247899]\n",
            "[189.12321627]\n"
          ],
          "name": "stdout"
        }
      ]
    }
  ]
}